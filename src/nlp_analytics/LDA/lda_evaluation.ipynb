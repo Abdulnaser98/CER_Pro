{
 "cells": [
  {
   "cell_type": "markdown",
   "id": "646dc245",
   "metadata": {},
   "source": [
    "# LDA Topic Model Evaluation\n",
    "\n",
    "This notebook focuses on evaluating various LDA (Latent Dirichlet Allocation) models to identify the optimal number of topics and other hyperparameters."
   ]
  },
  {
   "cell_type": "markdown",
   "id": "b5680819",
   "metadata": {},
   "source": [
    "## Imports"
   ]
  },
  {
   "cell_type": "code",
   "execution_count": 8,
   "id": "b1b7f303",
   "metadata": {},
   "outputs": [],
   "source": [
    "import tmtoolkit\n",
    "from tmtoolkit.topicmod.tm_sklearn import evaluate_topic_models\n",
    "from tmtoolkit.topicmod.evaluate import results_by_parameter\n",
    "from tmtoolkit.topicmod.visualize import plot_eval_results\n",
    "import pickle\n",
    "import pandas as pd\n",
    "from sklearn.feature_extraction.text import CountVectorizer\n",
    "import random \n",
    "import numpy as np\n",
    "import math\n",
    "from IPython.display import clear_output\n",
    "import string\n",
    "from matplotlib import cm\n",
    "from __future__ import print_function\n",
    "import pyLDAvis\n",
    "import pyLDAvis.lda_model\n",
    "from tmtoolkit.topicmod.model_stats import marginal_topic_distrib\n",
    "from tmtoolkit.bow.bow_stats import doc_lengths\n",
    "from tqdm import tqdm\n",
    "from scipy.spatial import distance\n",
    "from tmtoolkit.topicmod.model_stats import word_distinctiveness, most_distinct_words, least_distinct_words"
   ]
  },
  {
   "cell_type": "markdown",
   "id": "479eae60",
   "metadata": {},
   "source": [
    "## Data Loading and Preprocessing"
   ]
  },
  {
   "cell_type": "code",
   "execution_count": 9,
   "id": "855bc08d",
   "metadata": {},
   "outputs": [
    {
     "name": "stdout",
     "output_type": "stream",
     "text": [
      "The data has 363 row and 3 columns\n"
     ]
    }
   ],
   "source": [
    "def cv_token_return(doc):\n",
    "    return doc\n",
    "\n",
    "wordvect = pickle.load(open(\"output/wordvect.pickel\", \"rb\"))\n",
    "dtm = pickle.load(open(\"output/dtm.pickel\", \"rb\"))\n",
    "\n",
    "\n",
    "data = pd.read_csv(\"../../../data/processed_data/data_full_processed.csv\", sep=\",\")\n",
    "r, c = data.shape\n",
    "print(f\"The data has {r} row and {c} columns\")"
   ]
  },
  {
   "cell_type": "code",
   "execution_count": 10,
   "id": "5bc144bb",
   "metadata": {},
   "outputs": [],
   "source": [
    "var_params = [{'n_components': k, 'doc_topic_prior': 1/k}\n",
    "            for k in range(2, 20, 2)]"
   ]
  },
  {
   "cell_type": "markdown",
   "id": "1f1701c9",
   "metadata": {},
   "source": [
    "## Model Parameters\n",
    "\n",
    "We define the parameters for our LDA models. This includes both constant and variable parameters."
   ]
  },
  {
   "cell_type": "code",
   "execution_count": 11,
   "id": "7f2c59f9",
   "metadata": {},
   "outputs": [],
   "source": [
    "const_params = {\n",
    "    'max_iter':250, # Max learning iterations\n",
    "    'learning_method':'batch',   \n",
    "    'random_state':20191122, # Random state\n",
    "    'batch_size':128,  # n docs in each learning iter\n",
    "    'evaluate_every':10, # compute perplexity every n iters, default: Don't\n",
    "    'n_jobs':1,  # to make results reproducible\n",
    "    'topic_word_prior': 0.1               # sometimes also called \"beta\"\n",
    "}\n",
    "\n",
    "eval_results = evaluate_topic_models(dtm,\n",
    "                                     varying_parameters=var_params,\n",
    "                                     constant_parameters=const_params,\n",
    "                                     coherence_mimno_2011_top_n=10,\n",
    "                                     coherence_mimno_2011_include_prob=True,\n",
    "                                     return_models=True,\n",
    "                                     n_max_processes=32)\n",
    "\n",
    "eval_results[:3]  # only show first three models\n",
    "\n",
    "pickle.dump(eval_results, open(\"output/eval_results_100.pickel\", \"wb\"))"
   ]
  },
  {
   "cell_type": "code",
   "execution_count": 12,
   "id": "cd2bc2cb",
   "metadata": {},
   "outputs": [],
   "source": [
    "eval_results = pickle.load(open(\"output/eval_results_100.pickel\", \"rb\"))"
   ]
  },
  {
   "cell_type": "markdown",
   "id": "29c6d5a2",
   "metadata": {},
   "source": [
    "## Model Evaluation"
   ]
  },
  {
   "cell_type": "code",
   "execution_count": 13,
   "id": "73fa89c3",
   "metadata": {},
   "outputs": [
    {
     "data": {
      "text/plain": [
       "[(2,\n",
       "  {'model': LatentDirichletAllocation(doc_topic_prior=0.5, evaluate_every=10, max_iter=250,\n",
       "                             n_components=2, n_jobs=1, random_state=20191122,\n",
       "                             topic_word_prior=0.1),\n",
       "   'perplexity': 460.5534167848993,\n",
       "   'cao_juan_2009': 0.17587605026038744,\n",
       "   'coherence_mimno_2011': -484.8993030908042}),\n",
       " (4,\n",
       "  {'model': LatentDirichletAllocation(doc_topic_prior=0.25, evaluate_every=10, max_iter=250,\n",
       "                             n_components=4, n_jobs=1, random_state=20191122,\n",
       "                             topic_word_prior=0.1),\n",
       "   'perplexity': 449.8801232770969,\n",
       "   'cao_juan_2009': 0.21313488152340723,\n",
       "   'coherence_mimno_2011': -455.8303024270864}),\n",
       " (6,\n",
       "  {'model': LatentDirichletAllocation(doc_topic_prior=0.16666666666666666,\n",
       "                             evaluate_every=10, max_iter=250, n_components=6,\n",
       "                             n_jobs=1, random_state=20191122,\n",
       "                             topic_word_prior=0.1),\n",
       "   'perplexity': 437.8716552872758,\n",
       "   'cao_juan_2009': 0.18540025127266715,\n",
       "   'coherence_mimno_2011': -436.4550627934225}),\n",
       " (8,\n",
       "  {'model': LatentDirichletAllocation(doc_topic_prior=0.125, evaluate_every=10,\n",
       "                             max_iter=250, n_components=8, n_jobs=1,\n",
       "                             random_state=20191122, topic_word_prior=0.1),\n",
       "   'perplexity': 437.32404707821837,\n",
       "   'cao_juan_2009': 0.2199457750652505,\n",
       "   'coherence_mimno_2011': -437.02671703050555})]"
      ]
     },
     "execution_count": 13,
     "metadata": {},
     "output_type": "execute_result"
    }
   ],
   "source": [
    "eval_results_by_topics = results_by_parameter(eval_results, 'n_components')\n",
    "eval_results_by_topics[:4]  # again only the first three models"
   ]
  },
  {
   "cell_type": "code",
   "execution_count": 14,
   "id": "938b4106",
   "metadata": {},
   "outputs": [
    {
     "name": "stderr",
     "output_type": "stream",
     "text": [
      "/Users/pierreachkar/miniconda3/envs/cer/lib/python3.10/site-packages/tmtoolkit/topicmod/visualize.py:833: UserWarning: This figure was using a layout engine that is incompatible with subplots_adjust and/or tight_layout; not calling subplots_adjust.\n",
      "  fig.subplots_adjust(**subplots_adjust_kwargs)\n"
     ]
    },
    {
     "data": {
      "image/png": "[encoded data removed]",
      "text/plain": [
       "<Figure size 600x600 with 3 Axes>"
      ]
     },
     "metadata": {},
     "output_type": "display_data"
    }
   ],
   "source": [
    "plot_eval_results(eval_results_by_topics);"
   ]
  },
  {
   "cell_type": "code",
   "execution_count": 15,
   "id": "f8c9d1fc",
   "metadata": {},
   "outputs": [
    {
     "data": {
      "text/plain": [
       "(6, 0.16666666666666666, 0.1)"
      ]
     },
     "execution_count": 15,
     "metadata": {},
     "output_type": "execute_result"
    }
   ],
   "source": [
    "best_tm = [m for k, m in eval_results_by_topics if k == 6][0]['model']\n",
    "best_tm.n_components, best_tm.doc_topic_prior, best_tm.topic_word_prior  # just to make sure"
   ]
  },
  {
   "cell_type": "code",
   "execution_count": 16,
   "id": "f1a613a2",
   "metadata": {},
   "outputs": [
    {
     "name": "stdout",
     "output_type": "stream",
     "text": [
      "['electricity.detection.framework.methods.distribution', 'wind.building.architecture.buildings.sensor', 'communication.technologies.intelligence.vehicle.countries', 'machine.cloud.information.city.internet', 'process.sources.generation.home.time', 'cities.research.demand.load.challenges']\n"
     ]
    }
   ],
   "source": [
    "# Show top n keywords for each topic\n",
    "def show_topics(vectorizer=wordvect, lda_model=best_tm, n_words=20):\n",
    "    keywords = np.array(vectorizer.get_feature_names_out())\n",
    "    topic_keywords = []\n",
    "    for topic_weights in lda_model.components_:\n",
    "        top_keyword_locs = (-topic_weights).argsort()[:n_words]\n",
    "        topic_keywords.append(keywords.take(top_keyword_locs))\n",
    "    return topic_keywords\n",
    "\n",
    "topic_keywords = show_topics(vectorizer=wordvect, lda_model=best_tm, n_words=15)# Topic - Keywords Dataframe\n",
    "\n",
    "df_topic_keywords = pd.DataFrame(topic_keywords)\n",
    "df_topic_keywords.columns = ['Word '+str(i) for i in range(df_topic_keywords.shape[1])]\n",
    "df_topic_keywords.index = ['Topic '+str(i) for i in range(df_topic_keywords.shape[0])]\n",
    "df_topic_keywords\n",
    "#Time series\n",
    "topic_labels = []\n",
    "\n",
    "for index, row in df_topic_keywords.iterrows():\n",
    "    topic_labels.append('.'.join(row[0:5].to_list()))\n",
    "\n",
    "print(topic_labels)"
   ]
  },
  {
   "cell_type": "markdown",
   "metadata": {},
   "source": [
    "### Document distribution over Time"
   ]
  },
  {
   "cell_type": "code",
   "execution_count": null,
   "id": "02445a88",
   "metadata": {},
   "outputs": [],
   "source": [
    "cmap = cm.get_cmap('tab20')\n",
    "data[\"date\"] = data.date.apply(lambda x: x.strip()[0:3] + \"0\")\n",
    "\n",
    "# Combine the 2D array with the DataFrame column using Pandas' concat function\n",
    "combined_array = pd.concat([pd.DataFrame(best_tm.transform(dtm), columns=topic_labels), data[\"date\"]], axis=1)\n",
    "aggregated_data = combined_array.groupby('datee').mean().reset_index()\n",
    "aggregated_data.set_index('date', inplace=True)\n",
    "\n",
    "# Create a stacked bar chart\n",
    "aggregated_data.plot.area(stacked=True,colormap=cmap, legend='reverse').legend(\n",
    "    bbox_to_anchor=(1.0, 1.0),\n",
    "    fontsize='small',\n",
    "\n",
    ")\n",
    "\n",
    "# Optional: Customize the plot\n",
    "import matplotlib.pyplot as plt\n",
    "\n",
    "plt.xlabel('Categories')\n",
    "plt.ylabel('Values')\n",
    "plt.title('Stacked Bar Chart')\n",
    "\n",
    "plt.show()"
   ]
  },
  {
   "cell_type": "code",
   "execution_count": 18,
   "id": "ebd0c612",
   "metadata": {},
   "outputs": [
    {
     "name": "stderr",
     "output_type": "stream",
     "text": [
      "/Users/pierreachkar/miniconda3/envs/cer/lib/python3.10/site-packages/pandas/core/dtypes/cast.py:1641: DeprecationWarning: np.find_common_type is deprecated.  Please use `np.result_type` or `np.promote_types`.\n",
      "See https://numpy.org/devdocs/release/1.25.0-notes.html and the docs for more information.  (Deprecated NumPy 1.25)\n",
      "  return np.find_common_type(types, [])\n",
      "/Users/pierreachkar/miniconda3/envs/cer/lib/python3.10/site-packages/pandas/core/dtypes/cast.py:1641: DeprecationWarning: np.find_common_type is deprecated.  Please use `np.result_type` or `np.promote_types`.\n",
      "See https://numpy.org/devdocs/release/1.25.0-notes.html and the docs for more information.  (Deprecated NumPy 1.25)\n",
      "  return np.find_common_type(types, [])\n"
     ]
    }
   ],
   "source": [
    "pyLDAvis.enable_notebook()\n",
    "\n",
    "pyLDAvis.lda_model.prepare(best_tm, dtm, wordvect)"
   ]
  },
  {
   "cell_type": "markdown",
   "id": "036708e4",
   "metadata": {},
   "source": [
    "## Results and Visualization"
   ]
  },
  {
   "cell_type": "code",
   "execution_count": 19,
   "id": "d3b62470",
   "metadata": {},
   "outputs": [],
   "source": [
    "doc_lengths_bg = doc_lengths(dtm)\n",
    "marg_topic = marginal_topic_distrib(best_tm.transform(dtm), doc_lengths_bg)"
   ]
  },
  {
   "cell_type": "markdown",
   "metadata": {},
   "source": [
    "### Saliency"
   ]
  },
  {
   "cell_type": "code",
   "execution_count": 20,
   "id": "89a5254c",
   "metadata": {},
   "outputs": [
    {
     "data": {
      "text/plain": [
       "array([0.97711778, 1.12655957, 0.52891001, 1.3678616 , 0.67208739,\n",
       "       0.53135583, 1.72731205, 0.9636241 , 1.6429356 , 0.66292924])"
      ]
     },
     "execution_count": 20,
     "metadata": {},
     "output_type": "execute_result"
    }
   ],
   "source": [
    "word_distinct = word_distinctiveness(best_tm.components_, marg_topic)\n",
    "word_distinct[:10]   # first 10 words in vocab"
   ]
  },
  {
   "cell_type": "code",
   "execution_count": 21,
   "id": "acf1e926",
   "metadata": {},
   "outputs": [
    {
     "data": {
      "text/plain": [
       "array(['process', 'comfort', 'cities', 'user', 'research', 'concepts',\n",
       "       'cloud', 'stability', 'resource', 'communication', 'structure',\n",
       "       'market', 'recognition', 'software', 'machine_learning',\n",
       "       'intelligence', 'coal', 'countries', 'framework', 'power_system',\n",
       "       'vehicles', 'irrigation', 'people', 'home', 'world', 'time',\n",
       "       'generation', 'enterprises', 'agriculture', 'problems'],\n",
       "      dtype=object)"
      ]
     },
     "execution_count": 21,
     "metadata": {},
     "output_type": "execute_result"
    }
   ],
   "source": [
    "most_distinct_words(wordvect.get_feature_names_out(), best_tm.components_,\n",
    "                    best_tm.transform(dtm), doc_lengths_bg,\n",
    "                    n=30)"
   ]
  },
  {
   "cell_type": "code",
   "execution_count": 22,
   "id": "a47432ee",
   "metadata": {},
   "outputs": [
    {
     "data": {
      "text/plain": [
       "array(['everything', 'part', 'towards', 'reliability', 'concern',\n",
       "       'optimization', 'project', 'techniques_techniques', 'century',\n",
       "       'data_data', 'sensors', 'infrastructures', 'practices', 'storage',\n",
       "       'development_development', 'smart', 'evaluate', 'cases',\n",
       "       'irradiance', 'blockchain', 'infrastructure', 'solutions',\n",
       "       'domains', 'aid', 'developments', 'weather', 'obstacle', 'offer',\n",
       "       'survey', 'differences'], dtype=object)"
      ]
     },
     "execution_count": 22,
     "metadata": {},
     "output_type": "execute_result"
    }
   ],
   "source": [
    "least_distinct_words(wordvect.get_feature_names_out(), best_tm.components_,\n",
    "                    best_tm.transform(dtm), doc_lengths_bg,\n",
    "                    n=30)"
   ]
  },
  {
   "cell_type": "markdown",
   "id": "7e1a7d39",
   "metadata": {},
   "source": [
    "### Reliability Analysis\n",
    "\n",
    "In this subsection, we assess the reliability of our topic models. Reliability is analyzed by examining the overlap between different topic models to calculate a measure of their consistency and stability."
   ]
  },
  {
   "cell_type": "code",
   "execution_count": 23,
   "id": "6df2f554",
   "metadata": {},
   "outputs": [
    {
     "name": "stderr",
     "output_type": "stream",
     "text": [
      "100%|██████████| 10/10 [00:00<00:00, 85.57it/s]\n"
     ]
    },
    {
     "data": {
      "text/plain": [
       "(10, 6, 479)"
      ]
     },
     "execution_count": 23,
     "metadata": {},
     "output_type": "execute_result"
    }
   ],
   "source": [
    "#Compare Model Reliability\n",
    "\n",
    "final = []\n",
    "\n",
    "def set_n_to_zero(x, n):\n",
    "    indexes = np.argpartition(x,-n)[-n:]\n",
    "    mask = np.ones(x.size, dtype=bool)\n",
    "    mask[indexes] = False\n",
    "    x[mask] = 0\n",
    "    return x\n",
    "\n",
    "for i in tqdm(range(10)):\n",
    "    lda_model = pickle.load(open(f'output/lda_model_{i}.pkl', \"rb\"))\n",
    "    lda_output = pickle.load(open(f'output/lda_output_{i}.pkl', \"rb\"))\n",
    "    final.append(np.apply_along_axis(set_n_to_zero, 1, lda_model.components_, n=20))\n",
    "        \n",
    "\n",
    "#make comparison\n",
    "final = np.asarray(final)\n",
    "final.shape"
   ]
  },
  {
   "cell_type": "code",
   "execution_count": 24,
   "id": "61973da3",
   "metadata": {},
   "outputs": [
    {
     "data": {
      "text/plain": [
       "array([[ 0.        , 39.16464405, 30.3578201 , ...,  0.        ,\n",
       "         0.        ,  0.        ],\n",
       "       [23.14913756,  0.        ,  0.        , ...,  0.        ,\n",
       "         0.        ,  0.        ],\n",
       "       [ 0.        ,  0.        ,  0.        , ...,  0.        ,\n",
       "         0.        ,  0.        ],\n",
       "       [ 0.        ,  0.        ,  7.97324993, ...,  0.        ,\n",
       "         0.        ,  0.        ],\n",
       "       [ 0.        ,  0.        ,  0.        , ...,  0.        ,\n",
       "         0.        ,  0.        ],\n",
       "       [11.83304277,  0.        ,  0.        , ...,  0.        ,\n",
       "         0.        ,  0.        ]])"
      ]
     },
     "execution_count": 24,
     "metadata": {},
     "output_type": "execute_result"
    }
   ],
   "source": [
    "lda_model.components_"
   ]
  },
  {
   "cell_type": "code",
   "execution_count": 25,
   "id": "645b2bac",
   "metadata": {},
   "outputs": [
    {
     "data": {
      "text/plain": [
       "6"
      ]
     },
     "execution_count": 25,
     "metadata": {},
     "output_type": "execute_result"
    }
   ],
   "source": [
    "final[1,:,:].shape[0]"
   ]
  },
  {
   "cell_type": "code",
   "execution_count": 30,
   "id": "7e9757ba",
   "metadata": {},
   "outputs": [
    {
     "data": {
      "text/plain": [
       "0.4074074074074074"
      ]
     },
     "execution_count": 30,
     "metadata": {},
     "output_type": "execute_result"
    }
   ],
   "source": [
    "compare = np.zeros((final[1,:,:].shape[0], final[1,:,:].shape[0]))\n",
    "\n",
    "all_models_reli = []\n",
    "min_sim = 0.41\n",
    "vocab = wordvect.get_feature_names_out()\n",
    "\n",
    "for k in range(10):\n",
    "    for l in range(10):\n",
    "        if(k!=l):\n",
    "            for i in range(final[k,:,:].shape[0]):\n",
    "                for j in range(final[l,:,:].shape[0]):\n",
    "                    compare[i,j] = (1 - distance.cosine(final[k,i,:],final[l,j,:]))\n",
    "\n",
    "            stopped = False\n",
    "            total_overlap = 0\n",
    "\n",
    "\n",
    "            while(stopped != True):\n",
    "                index = np.unravel_index(compare.argmax(), compare.shape)\n",
    "                #print(index)\n",
    "                total_overlap += 1\n",
    "                if(compare[index] < min_sim):\n",
    "                    stopped = True\n",
    "                    #print(vocab[np.argsort(-np.array(final[k,index[0],:]))[1:20]])\n",
    "                    #print(vocab[np.argsort(-np.array(final[l,index[1],:]))[1:20]])\n",
    "                    #print(\"#####\\n\")\n",
    "                compare[index[0],:] = 0\n",
    "                compare[index[1],:] = 0\n",
    "\n",
    "            all_models_reli.append(total_overlap/final[1,:,:].shape[0])\n",
    "\n",
    "np.asarray(all_models_reli).mean()"
   ]
  },
  {
   "cell_type": "code",
   "execution_count": 31,
   "id": "2bbcb5b5",
   "metadata": {},
   "outputs": [
    {
     "data": {
      "text/plain": [
       "array([0.5       , 0.33333333, 0.66666667, 0.33333333, 0.16666667,\n",
       "       0.5       , 0.33333333, 0.33333333, 0.33333333, 0.66666667,\n",
       "       0.5       , 0.5       , 0.5       , 0.33333333, 0.66666667,\n",
       "       0.33333333, 0.5       , 0.33333333, 0.33333333, 0.5       ,\n",
       "       0.5       , 0.33333333, 0.5       , 0.16666667, 0.16666667,\n",
       "       0.33333333, 0.5       , 0.66666667, 0.33333333, 0.5       ,\n",
       "       0.66666667, 0.33333333, 0.33333333, 0.66666667, 0.5       ,\n",
       "       0.33333333, 0.33333333, 0.33333333, 0.33333333, 0.5       ,\n",
       "       0.33333333, 0.33333333, 0.33333333, 0.66666667, 0.5       ,\n",
       "       0.16666667, 0.33333333, 0.5       , 0.33333333, 0.33333333,\n",
       "       0.16666667, 0.33333333, 0.66666667, 0.33333333, 0.83333333,\n",
       "       0.5       , 0.16666667, 0.33333333, 0.33333333, 0.16666667,\n",
       "       0.66666667, 0.33333333, 0.33333333, 0.33333333, 0.33333333,\n",
       "       0.16666667, 0.66666667, 0.33333333, 0.33333333, 0.5       ,\n",
       "       0.33333333, 0.33333333, 0.33333333, 0.5       , 0.33333333,\n",
       "       0.5       , 0.66666667, 0.5       , 0.33333333, 0.33333333,\n",
       "       0.5       , 0.33333333, 0.33333333, 0.5       , 0.33333333,\n",
       "       0.33333333, 0.33333333, 0.33333333, 0.33333333, 0.5       ])"
      ]
     },
     "execution_count": 31,
     "metadata": {},
     "output_type": "execute_result"
    }
   ],
   "source": [
    "np.asarray(all_models_reli)"
   ]
  },
  {
   "cell_type": "markdown",
   "id": "0766b40c",
   "metadata": {},
   "source": [
    "### Word Intrusion Analysis\n",
    "\n",
    "Word intrusion is a method to evaluate the quality of topics generated by a topic model. In this analysis, we introduce an \"intruder\" word into a list of words that belong to a specific topic. If the model is good, the intruder word should be easily identifiable as not belonging to the topic."
   ]
  },
  {
   "cell_type": "code",
   "execution_count": 32,
   "id": "a6d75128",
   "metadata": {},
   "outputs": [
    {
     "name": "stdout",
     "output_type": "stream",
     "text": [
      "Word intrusion 0 of runs\n",
      "\n",
      "[0]recognition\n",
      "\n",
      "[1]cities\n",
      "\n",
      "[2]research\n",
      "\n",
      "[3]demand\n",
      "\n",
      "[4]load\n",
      "\n",
      "FALSE SELECTION\n",
      "\n",
      "Word intrusion 1 of runs\n",
      "\n",
      "[0]plants\n",
      "\n",
      "[1]machine\n",
      "\n",
      "[2]cloud\n",
      "\n",
      "[3]information\n",
      "\n",
      "[4]city\n",
      "\n",
      "CORRECT SELECTION\n",
      "\n",
      "Word intrusion 2 of runs\n",
      "\n",
      "[0]process\n",
      "\n",
      "[1]sources\n",
      "\n",
      "[2]generation\n",
      "\n",
      "[3]results\n",
      "\n",
      "[4]home\n",
      "\n",
      "FALSE SELECTION\n",
      "\n",
      "Word intrusion 3 of runs\n",
      "\n",
      "[0]electricity\n",
      "\n",
      "[1]approach\n",
      "\n",
      "[2]detection\n",
      "\n",
      "[3]framework\n",
      "\n",
      "[4]methods\n",
      "\n",
      "FALSE SELECTION\n",
      "\n",
      "Word intrusion 4 of runs\n",
      "\n",
      "[0]cities\n",
      "\n",
      "[1]research\n",
      "\n",
      "[2]demand\n",
      "\n",
      "[3]load\n",
      "\n",
      "[4]buildings\n",
      "\n",
      "FALSE SELECTION\n",
      "\n",
      "Word intrusion 5 of runs\n",
      "\n",
      "[0]cities\n",
      "\n",
      "[1]research\n",
      "\n",
      "[2]demand\n",
      "\n",
      "[3]load\n",
      "\n",
      "[4]challenges\n",
      "\n",
      "FALSE SELECTION\n",
      "\n",
      "Word intrusion 6 of runs\n",
      "\n",
      "[0]process\n",
      "\n",
      "[1]internet\n",
      "\n",
      "[2]sources\n",
      "\n",
      "[3]generation\n",
      "\n",
      "[4]home\n",
      "\n",
      "FALSE SELECTION\n",
      "\n",
      "Word intrusion 7 of runs\n",
      "\n",
      "[0]issues\n",
      "\n",
      "[1]process\n",
      "\n",
      "[2]sources\n",
      "\n",
      "[3]generation\n",
      "\n",
      "[4]home\n",
      "\n",
      "CORRECT SELECTION\n",
      "\n",
      "Word intrusion 8 of runs\n",
      "\n",
      "[0]machine\n",
      "\n",
      "[1]plants\n",
      "\n",
      "[2]cloud\n",
      "\n",
      "[3]information\n",
      "\n",
      "[4]city\n",
      "\n",
      "CORRECT SELECTION\n",
      "\n",
      "Word intrusion 9 of runs\n",
      "\n",
      "[0]electricity\n",
      "\n",
      "[1]detection\n",
      "\n",
      "[2]events\n",
      "\n",
      "[3]framework\n",
      "\n",
      "[4]methods\n",
      "\n",
      "FALSE SELECTION\n",
      "\n",
      "Performance: 0.3 (3 out of 10 runs)\n",
      "\n"
     ]
    }
   ],
   "source": [
    "correct_selections = 0\n",
    "K = best_tm.components_.shape[0]\n",
    "runs = 10\n",
    "topic = \"random\"\n",
    "setsize = 5\n",
    "chance_correction = False\n",
    "\n",
    "for iter in range(runs):\n",
    "    print(f'Word intrusion {iter} of runs\\n')\n",
    "    # select a topic\n",
    "    if (topic == \"random\"):\n",
    "      k = random.randint(0, K)\n",
    "    else:\n",
    "      k <- topic\n",
    "\n",
    "    # select setsize - 1 most probable words\n",
    "    top_words = np.argsort(best_tm.components_[k-1,:])[::-1]\n",
    "    top_words_setsize = wordvect.get_feature_names_out()[top_words[:setsize]]\n",
    "    \n",
    "    \n",
    "    \n",
    "    # select intruder word with low probability from current topic, but high probability in some other topic\n",
    "    V = best_tm.components_.shape[1]\n",
    "    top30 = min(V, 30)\n",
    "    \n",
    "    high_prob_terms = []\n",
    "    \n",
    "    for i in range(K):\n",
    "        if(i != k):\n",
    "            top_words_i = np.argsort(best_tm.components_[i,:])[::-1]\n",
    "            top_words_setsize_i = wordvect.get_feature_names_out()[top_words_i[:top30]]\n",
    "            high_prob_terms.append(top_words_setsize_i)\n",
    "    \n",
    "    high_prob_terms = set(np.unique(np.asarray(high_prob_terms).flatten()))\n",
    "    low_prob_terms = set(wordvect.get_feature_names_out()[top_words[math.ceil(0.25 * V):V]])\n",
    "    selection_terms = high_prob_terms & low_prob_terms\n",
    "\n",
    "    intruder = random.choices(list(selection_terms), k=1)\n",
    "    \n",
    "    eval_list = np.insert(\n",
    "        top_words_setsize,\n",
    "        random.randint(0, len(top_words_setsize)), \n",
    "        intruder)\n",
    "    intruder_true_position = np.where(eval_list == intruder)[0]\n",
    "\n",
    "    for j in range(setsize): \n",
    "        print(f\"[{j}]{eval_list[j]}\\n\")\n",
    "    \n",
    "    intruder_user_selection = int(input(\"Enter your input: \"))\n",
    "    #clear_output(wait=True)\n",
    "    \n",
    "    if (intruder_true_position == intruder_user_selection):\n",
    "        print(\"CORRECT SELECTION\\n\")\n",
    "        correct_selections +=  1\n",
    "    else:\n",
    "        print(\"FALSE SELECTION\\n\")\n",
    "        \n",
    "    \n",
    "        \n",
    "performance = correct_selections / runs\n",
    "\n",
    "if(chance_correction):\n",
    "    random_probabilty = 1 / setsize\n",
    "    performance = (performance - random_probabilty) / (1 - random_probabilty)\n",
    "  \n",
    "print(f\"Performance: {performance} ({correct_selections} out of {runs} runs)\\n\")\n",
    "    #print(top_words_setsize)\n",
    "    #print(intruder)"
   ]
  },
  {
   "cell_type": "code",
   "execution_count": null,
   "metadata": {},
   "outputs": [
    {
     "data": {
      "text/plain": [
       "0.4"
      ]
     },
     "execution_count": 39,
     "metadata": {},
     "output_type": "execute_result"
    }
   ],
   "source": [
    "# mean\n",
    "np.mean(np.array([0.4,0.6,0.2,0.5,0.3]))"
   ]
  },
  {
   "cell_type": "markdown",
   "id": "de47caf4",
   "metadata": {},
   "source": [
    "### Topic Keywords\n",
    "\n",
    "Below, we list the top keywords for each topic generated by our LDA model. These keywords give us a glimpse into the thematic structure of the topics."
   ]
  },
  {
   "cell_type": "code",
   "execution_count": 33,
   "id": "f3bc8a44",
   "metadata": {},
   "outputs": [
    {
     "name": "stdout",
     "output_type": "stream",
     "text": [
      "['electricity.detection.framework.methods.distribution', 'wind.building.architecture.buildings.sensor', 'communication.technologies.intelligence.vehicle.countries', 'machine.cloud.information.city.internet', 'process.sources.generation.home.time', 'cities.research.demand.load.challenges']\n"
     ]
    }
   ],
   "source": [
    "# Show top n keywords for each topic\n",
    "def show_topics(vectorizer, lda_model, n_words=20):\n",
    "    keywords = np.array(vectorizer.get_feature_names_out())\n",
    "    topic_keywords = []\n",
    "    for topic_weights in lda_model.components_:\n",
    "        top_keyword_locs = (-topic_weights).argsort()[:n_words]\n",
    "        topic_keywords.append(keywords.take(top_keyword_locs))\n",
    "    return topic_keywords\n",
    "\n",
    "topic_keywords = show_topics(vectorizer=wordvect, lda_model=best_tm, n_words=15)# Topic - Keywords Dataframe\n",
    "\n",
    "df_topic_keywords = pd.DataFrame(topic_keywords)\n",
    "df_topic_keywords.columns = ['Word '+str(i) for i in range(df_topic_keywords.shape[1])]\n",
    "df_topic_keywords.index = ['Topic '+str(i) for i in range(df_topic_keywords.shape[0])]\n",
    "\n",
    "#Time series\n",
    "topic_labels = []\n",
    "\n",
    "for index, row in df_topic_keywords.iterrows():\n",
    "    topic_labels.append('.'.join(row[0:5].to_list()))\n",
    "\n",
    "print(topic_labels)"
   ]
  },
  {
   "cell_type": "markdown",
   "id": "b1d8f479",
   "metadata": {},
   "source": [
    "### Topic Intrusion Analysis\n",
    "\n",
    "Topic intrusion is a method to evaluate the quality of topics within documents generated by a topic model. For this analysis, an \"intruder\" topic is introduced into a list of topics relevant to a specific document. A good topic model should make it clear that the intruder topic does not belong to the document."
   ]
  },
  {
   "cell_type": "code",
   "execution_count": 34,
   "id": "a3c3770d",
   "metadata": {},
   "outputs": [
    {
     "name": "stdout",
     "output_type": "stream",
     "text": [
      "FALSE SELECTION\n",
      "\n",
      "Performance: 0.3 (3 out of 10 runs)\n",
      "\n"
     ]
    }
   ],
   "source": [
    "# Topic instrusion\n",
    "theta = best_tm.transform(dtm)\n",
    "correct_selections = 0\n",
    "K = best_tm.components_.shape[0]\n",
    "runs = 10\n",
    "n_docs = theta.shape[0]\n",
    "chance_correction = False\n",
    "docs = random.sample(range(n_docs), runs)\n",
    "setsize = 3\n",
    "\n",
    "for iter in range(runs):\n",
    "    d = docs[iter]\n",
    "\n",
    "    print(f\"Topic intrusion {iter} of {runs}\\n\")\n",
    "    \n",
    "    doc_text = data.abstract[d]\n",
    "    \n",
    "    # select setsize - 1 most probable topic\n",
    "    top_topics = np.argsort(theta[d,:])[::-1]\n",
    "    top_topic_names = [label for idx, label in enumerate(topic_labels) if idx in top_topics[:(setsize-1)]]\n",
    "    intruder_topic = random.choices(list(top_topics[math.ceil((K+1)/2):K-1]), k=1)\n",
    "    intruder_topic_name = topic_labels[intruder_topic[0]]\n",
    "    \n",
    "    eval_list = np.insert(\n",
    "        top_topic_names,\n",
    "        random.randint(0, len(top_topic_names)), \n",
    "        intruder_topic_name)\n",
    "    \n",
    "    intruder_true_position = np.where(eval_list == intruder_topic_name)[0]\n",
    "    \n",
    "    print(f'{doc_text}\\n')\n",
    "    \n",
    "    for i in range(setsize): \n",
    "        print(f\"[{i}] {eval_list[i]}\\n\")\n",
    "\n",
    "    intruder_user_selection = int(input(\"Enter your input: \"))\n",
    "    clear_output(wait=True)\n",
    "    \n",
    "    if (intruder_true_position == intruder_user_selection):\n",
    "        print(\"CORRECT SELECTION\\n\")\n",
    "        correct_selections +=  1\n",
    "    else:\n",
    "        print(\"FALSE SELECTION\\n\")\n",
    "    \n",
    "performance = correct_selections / runs\n",
    "\n",
    "if(chance_correction):\n",
    "    random_probabilty = 1 / setsize\n",
    "    performance = (performance - random_probabilty) / (1 - random_probabilty)\n",
    "  \n",
    "print(f\"Performance: {performance} ({correct_selections} out of {runs} runs)\\n\")"
   ]
  },
  {
   "cell_type": "code",
   "execution_count": 15,
   "metadata": {},
   "outputs": [
    {
     "data": {
      "text/plain": [
       "0.33999999999999997"
      ]
     },
     "execution_count": 15,
     "metadata": {},
     "output_type": "execute_result"
    }
   ],
   "source": [
    "# mean\n",
    "np.mean(np.array([0.4,0.2,0.2,0.6,0.3]))"
   ]
  }
 ],
 "metadata": {
  "kernelspec": {
   "display_name": "cer_project",
   "language": "python",
   "name": "python3"
  },
  "language_info": {
   "codemirror_mode": {
    "name": "ipython",
    "version": 3
   },
   "file_extension": ".py",
   "mimetype": "text/x-python",
   "name": "python",
   "nbconvert_exporter": "python",
   "pygments_lexer": "ipython3",
   "version": "3.10.12"
  }
 },
 "nbformat": 4,
 "nbformat_minor": 2
}
