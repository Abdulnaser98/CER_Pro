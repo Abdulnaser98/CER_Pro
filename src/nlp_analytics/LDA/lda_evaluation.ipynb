{
 "cells": [
  {
   "cell_type": "code",
   "execution_count": 6,
   "metadata": {},
   "outputs": [],
   "source": [
    "import tmtoolkit\n",
    "import pickle\n",
    "import pandas as pd\n",
    "from sklearn.feature_extraction.text import CountVectorizer\n",
    "import random \n",
    "import numpy as np\n",
    "import math\n",
    "from IPython.display import clear_output"
   ]
  },
  {
   "cell_type": "code",
   "execution_count": 7,
   "metadata": {},
   "outputs": [
    {
     "name": "stdout",
     "output_type": "stream",
     "text": [
      "The data has 363 row and 3 columns\n"
     ]
    }
   ],
   "source": [
    "def cv_token_return(doc):\n",
    "    return doc\n",
    "\n",
    "wordvect = pickle.load(open(\"wordvect.pickel\", \"rb\"))\n",
    "dtm = pickle.load(open(\"dtm.pickel\", \"rb\"))\n",
    "\n",
    "\n",
    "data = pd.read_csv(\"../../../data/processed_data/data_full_processed.csv\", sep=\",\")\n",
    "r, c = data.shape\n",
    "print(f\"The data has {r} row and {c} columns\")"
   ]
  },
  {
   "cell_type": "code",
   "execution_count": 8,
   "metadata": {},
   "outputs": [
    {
     "data": {
      "text/plain": [
       "[{'n_components': 2, 'doc_topic_prior': 0.5},\n",
       " {'n_components': 4, 'doc_topic_prior': 0.25},\n",
       " {'n_components': 6, 'doc_topic_prior': 0.16666666666666666},\n",
       " {'n_components': 8, 'doc_topic_prior': 0.125},\n",
       " {'n_components': 10, 'doc_topic_prior': 0.1},\n",
       " {'n_components': 12, 'doc_topic_prior': 0.08333333333333333},\n",
       " {'n_components': 14, 'doc_topic_prior': 0.07142857142857142},\n",
       " {'n_components': 16, 'doc_topic_prior': 0.0625},\n",
       " {'n_components': 18, 'doc_topic_prior': 0.05555555555555555}]"
      ]
     },
     "execution_count": 8,
     "metadata": {},
     "output_type": "execute_result"
    }
   ],
   "source": [
    "var_params = [{'n_components': k, 'doc_topic_prior': 1/k}\n",
    "            for k in range(2, 20, 2)]\n",
    "var_params"
   ]
  },
  {
   "cell_type": "code",
   "execution_count": 9,
   "metadata": {},
   "outputs": [
    {
     "data": {
      "text/plain": [
       "('perplexity',\n",
       " 'cao_juan_2009',\n",
       " 'arun_2010',\n",
       " 'coherence_mimno_2011',\n",
       " 'coherence_gensim_u_mass',\n",
       " 'coherence_gensim_c_v',\n",
       " 'coherence_gensim_c_uci',\n",
       " 'coherence_gensim_c_npmi',\n",
       " 'coherence_gensim_u_mass',\n",
       " 'coherence_gensim_c_v',\n",
       " 'coherence_gensim_c_uci',\n",
       " 'coherence_gensim_c_npmi')"
      ]
     },
     "execution_count": 9,
     "metadata": {},
     "output_type": "execute_result"
    }
   ],
   "source": [
    "from tmtoolkit.topicmod import tm_sklearn\n",
    "tm_sklearn.AVAILABLE_METRICS"
   ]
  },
  {
   "cell_type": "code",
   "execution_count": 28,
   "metadata": {},
   "outputs": [],
   "source": [
    "from tmtoolkit.topicmod.tm_sklearn import evaluate_topic_models\n",
    "from tmtoolkit.topicmod.evaluate import results_by_parameter\n",
    "\n",
    "const_params = {\n",
    "    'max_iter':250, # Max learning iterations\n",
    "    'learning_method':'batch',   \n",
    "    'random_state':20191122, # Random state\n",
    "    'batch_size':128,  # n docs in each learning iter\n",
    "    'evaluate_every':10, # compute perplexity every n iters, default: Don't\n",
    "    'n_jobs':1,  # to make results reproducible\n",
    "    'topic_word_prior': 0.1               # sometimes also called \"beta\"\n",
    "}\n",
    "\n",
    "eval_results = evaluate_topic_models(dtm,\n",
    "                                     varying_parameters=var_params,\n",
    "                                     constant_parameters=const_params,\n",
    "                                     coherence_mimno_2011_top_n=10,\n",
    "                                     coherence_mimno_2011_include_prob=True,\n",
    "                                     return_models=True,\n",
    "                                     n_max_processes=32)\n",
    "\n",
    "eval_results[:3]  # only show first three models\n",
    "\n",
    "import pickle\n",
    "pickle.dump(eval_results, open(\"eval_results_100.pickel\", \"wb\"))"
   ]
  },
  {
   "cell_type": "code",
   "execution_count": 29,
   "metadata": {},
   "outputs": [],
   "source": [
    "import pickle\n",
    "from tmtoolkit.topicmod.tm_sklearn import evaluate_topic_models\n",
    "from tmtoolkit.topicmod.evaluate import results_by_parameter\n",
    "eval_results = pickle.load(open(\"eval_results_100.pickel\", \"rb\"))"
   ]
  },
  {
   "cell_type": "code",
   "execution_count": 30,
   "metadata": {},
   "outputs": [
    {
     "data": {
      "text/plain": [
       "[(2,\n",
       "  {'model': LatentDirichletAllocation(doc_topic_prior=0.5, evaluate_every=10, max_iter=250,\n",
       "                             n_components=2, n_jobs=1, random_state=20191122,\n",
       "                             topic_word_prior=0.1),\n",
       "   'perplexity': 593.5475290135793,\n",
       "   'cao_juan_2009': 0.20502394471558083,\n",
       "   'coherence_mimno_2011': -494.3162650172725}),\n",
       " (4,\n",
       "  {'model': LatentDirichletAllocation(doc_topic_prior=0.25, evaluate_every=10, max_iter=250,\n",
       "                             n_components=4, n_jobs=1, random_state=20191122,\n",
       "                             topic_word_prior=0.1),\n",
       "   'perplexity': 580.1005503336042,\n",
       "   'cao_juan_2009': 0.2382777076054905,\n",
       "   'coherence_mimno_2011': -468.92723136535244}),\n",
       " (6,\n",
       "  {'model': LatentDirichletAllocation(doc_topic_prior=0.16666666666666666,\n",
       "                             evaluate_every=10, max_iter=250, n_components=6,\n",
       "                             n_jobs=1, random_state=20191122,\n",
       "                             topic_word_prior=0.1),\n",
       "   'perplexity': 555.2158955180466,\n",
       "   'cao_juan_2009': 0.2181379287582753,\n",
       "   'coherence_mimno_2011': -455.68733488554744})]"
      ]
     },
     "execution_count": 30,
     "metadata": {},
     "output_type": "execute_result"
    }
   ],
   "source": [
    "eval_results_by_topics = results_by_parameter(eval_results, 'n_components')\n",
    "eval_results_by_topics[:3]  # again only the first three models"
   ]
  },
  {
   "cell_type": "code",
   "execution_count": 31,
   "metadata": {},
   "outputs": [
    {
     "name": "stderr",
     "output_type": "stream",
     "text": [
      "/Users/pierreachkar/miniconda3/envs/cer_project/lib/python3.10/site-packages/tmtoolkit/topicmod/visualize.py:833: UserWarning: This figure was using a layout engine that is incompatible with subplots_adjust and/or tight_layout; not calling subplots_adjust.\n",
      "  fig.subplots_adjust(**subplots_adjust_kwargs)\n"
     ]
    },
    {
     "data": {
      "image/png": "[encoded data removed]",
      "text/plain": [
       "<Figure size 600x600 with 3 Axes>"
      ]
     },
     "metadata": {},
     "output_type": "display_data"
    }
   ],
   "source": [
    "from tmtoolkit.topicmod.visualize import plot_eval_results\n",
    "plot_eval_results(eval_results_by_topics);"
   ]
  },
  {
   "cell_type": "code",
   "execution_count": 33,
   "metadata": {},
   "outputs": [
    {
     "data": {
      "text/plain": [
       "(6, 0.16666666666666666, 0.1)"
      ]
     },
     "execution_count": 33,
     "metadata": {},
     "output_type": "execute_result"
    }
   ],
   "source": [
    "best_tm = [m for k, m in eval_results_by_topics if k == 6][0]['model']\n",
    "best_tm.n_components, best_tm.doc_topic_prior, best_tm.topic_word_prior  # just to make sure"
   ]
  },
  {
   "cell_type": "code",
   "execution_count": 34,
   "metadata": {},
   "outputs": [],
   "source": [
    "from tmtoolkit.topicmod.model_stats import marginal_topic_distrib\n",
    "from tmtoolkit.bow.bow_stats import doc_lengths\n",
    "\n",
    "doc_lengths_bg = doc_lengths(dtm)\n",
    "marg_topic = marginal_topic_distrib(best_tm.transform(dtm), doc_lengths_bg)"
   ]
  },
  {
   "cell_type": "code",
   "execution_count": 35,
   "metadata": {},
   "outputs": [
    {
     "data": {
      "text/plain": [
       "array([0.62551896, 0.69786098, 1.95558223, 0.58150747, 1.78867721,\n",
       "       0.92066184, 1.21770851, 0.46063776, 0.59761594, 0.41924681])"
      ]
     },
     "execution_count": 35,
     "metadata": {},
     "output_type": "execute_result"
    }
   ],
   "source": [
    "#Saliency\n",
    "from tmtoolkit.topicmod.model_stats import word_distinctiveness, \\\n",
    "    most_distinct_words, least_distinct_words\n",
    "\n",
    "word_distinct = word_distinctiveness(best_tm.components_, marg_topic)\n",
    "word_distinct[:10]   # first 10 words in vocab"
   ]
  },
  {
   "cell_type": "code",
   "execution_count": 36,
   "metadata": {},
   "outputs": [
    {
     "data": {
      "text/plain": [
       "array(['scheduling', 'information', 'tools', 'building',\n",
       "       'power_consumption', 'theory', 'manufacturing', 'based', 'horizon',\n",
       "       'countries'], dtype=object)"
      ]
     },
     "execution_count": 36,
     "metadata": {},
     "output_type": "execute_result"
    }
   ],
   "source": [
    "most_distinct_words(wordvect.get_feature_names_out(), best_tm.components_,\n",
    "                    best_tm.transform(dtm), doc_lengths_bg,\n",
    "                    n=10)"
   ]
  },
  {
   "cell_type": "code",
   "execution_count": 37,
   "metadata": {},
   "outputs": [
    {
     "data": {
      "text/plain": [
       "array(['done', 'part', 'everything', 'towards', 'smart', 'analysis',\n",
       "       'come', 'sensor', 'sensors', 'achieve'], dtype=object)"
      ]
     },
     "execution_count": 37,
     "metadata": {},
     "output_type": "execute_result"
    }
   ],
   "source": [
    "least_distinct_words(wordvect.get_feature_names_out(), best_tm.components_,\n",
    "                    best_tm.transform(dtm), doc_lengths_bg,\n",
    "                    n=10)"
   ]
  },
  {
   "cell_type": "code",
   "execution_count": 38,
   "metadata": {},
   "outputs": [
    {
     "name": "stderr",
     "output_type": "stream",
     "text": [
      "100%|██████████| 10/10 [00:00<00:00, 206.25it/s]\n"
     ]
    },
    {
     "data": {
      "text/plain": [
       "(10, 6, 641)"
      ]
     },
     "execution_count": 38,
     "metadata": {},
     "output_type": "execute_result"
    }
   ],
   "source": [
    "#Compare Model Reliability\n",
    "import pickle\n",
    "import numpy as np\n",
    "from tqdm import tqdm\n",
    "\n",
    "\n",
    "final = []\n",
    "\n",
    "def set_n_to_zero(x, n):\n",
    "    indexes = np.argpartition(x,-n)[-n:]\n",
    "    mask = np.ones(x.size, dtype=bool)\n",
    "    mask[indexes] = False\n",
    "    x[mask] = 0\n",
    "    return x\n",
    "\n",
    "for i in tqdm(range(10)):\n",
    "    lda_model = pickle.load(open(f'lda_model_{i}.pkl', \"rb\"))\n",
    "    lda_output = pickle.load(open(f'lda_output_{i}.pkl', \"rb\"))\n",
    "    final.append(np.apply_along_axis(set_n_to_zero, 1, lda_model.components_, n=40))\n",
    "        \n",
    "\n",
    "#make comparison\n",
    "final = np.asarray(final)\n",
    "final.shape"
   ]
  },
  {
   "cell_type": "code",
   "execution_count": 39,
   "metadata": {},
   "outputs": [
    {
     "data": {
      "text/plain": [
       "array([[ 0.        , 28.06828965,  6.30351906, ...,  0.        ,\n",
       "         0.        ,  0.        ],\n",
       "       [ 0.        ,  0.        , 31.62838094, ...,  0.        ,\n",
       "         0.        ,  0.        ],\n",
       "       [ 0.        ,  0.        ,  0.        , ...,  0.        ,\n",
       "         0.        ,  0.        ],\n",
       "       [ 0.        ,  0.        ,  0.        , ...,  0.        ,\n",
       "         0.        ,  0.        ],\n",
       "       [33.98410588,  9.27129908,  8.56770406, ...,  0.        ,\n",
       "         0.        ,  0.        ],\n",
       "       [15.34772407,  0.        ,  0.        , ...,  0.        ,\n",
       "         0.        ,  0.        ]])"
      ]
     },
     "execution_count": 39,
     "metadata": {},
     "output_type": "execute_result"
    }
   ],
   "source": [
    "lda_model.components_"
   ]
  },
  {
   "cell_type": "code",
   "execution_count": 40,
   "metadata": {},
   "outputs": [
    {
     "data": {
      "text/plain": [
       "6"
      ]
     },
     "execution_count": 40,
     "metadata": {},
     "output_type": "execute_result"
    }
   ],
   "source": [
    "final[1,:,:].shape[0]"
   ]
  },
  {
   "cell_type": "code",
   "execution_count": 41,
   "metadata": {},
   "outputs": [
    {
     "data": {
      "text/plain": [
       "0.16666666666666666"
      ]
     },
     "execution_count": 41,
     "metadata": {},
     "output_type": "execute_result"
    }
   ],
   "source": [
    "from scipy.spatial import distance\n",
    "\n",
    "compare = np.zeros((final[1,:,:].shape[0], final[1,:,:].shape[0]))\n",
    "\n",
    "all_models_reli = []\n",
    "min_sim = 0.7\n",
    "    \n",
    "for k in range(10):\n",
    "    for l in range(10):\n",
    "        if(k!=l):\n",
    "            for i in range(final[k,:,:].shape[0]):\n",
    "                for j in range(final[l,:,:].shape[0]):\n",
    "                    compare[i,j] = (1 - distance.cosine(final[k,i,:],final[l,j,:]))\n",
    "\n",
    "            stopped = False\n",
    "            total_overlap = 0\n",
    "\n",
    "\n",
    "            while(stopped != True):\n",
    "                index = np.unravel_index(compare.argmax(), compare.shape)\n",
    "                #print(index)\n",
    "                total_overlap += 1\n",
    "                if(compare[index] < min_sim):\n",
    "                    stopped = True\n",
    "                compare[index] = 0\n",
    "                compare[index[1],index[0]] = 0\n",
    "\n",
    "            all_models_reli.append(total_overlap/final[1,:,:].shape[0])\n",
    "\n",
    "np.asarray(all_models_reli).mean()"
   ]
  },
  {
   "cell_type": "code",
   "execution_count": 24,
   "metadata": {},
   "outputs": [
    {
     "name": "stdout",
     "output_type": "stream",
     "text": [
      "Word intrusion 0 of runs\n",
      "\n",
      "[0]process\n",
      "\n",
      "[1]transportation\n",
      "\n",
      "[2]internet_things\n",
      "\n",
      "[3]time\n",
      "\n",
      "[4]evs\n",
      "\n"
     ]
    },
    {
     "ename": "KeyboardInterrupt",
     "evalue": "Interrupted by user",
     "output_type": "error",
     "traceback": [
      "\u001b[0;31m---------------------------------------------------------------------------\u001b[0m",
      "\u001b[0;31mKeyboardInterrupt\u001b[0m                         Traceback (most recent call last)",
      "Cell \u001b[0;32mIn[24], line 49\u001b[0m\n\u001b[1;32m     46\u001b[0m \u001b[39mfor\u001b[39;00m j \u001b[39min\u001b[39;00m \u001b[39mrange\u001b[39m(setsize): \n\u001b[1;32m     47\u001b[0m     \u001b[39mprint\u001b[39m(\u001b[39mf\u001b[39m\u001b[39m\"\u001b[39m\u001b[39m[\u001b[39m\u001b[39m{\u001b[39;00mj\u001b[39m}\u001b[39;00m\u001b[39m]\u001b[39m\u001b[39m{\u001b[39;00meval_list[j]\u001b[39m}\u001b[39;00m\u001b[39m\\n\u001b[39;00m\u001b[39m\"\u001b[39m)\n\u001b[0;32m---> 49\u001b[0m intruder_user_selection \u001b[39m=\u001b[39m \u001b[39mint\u001b[39m(\u001b[39minput\u001b[39;49m(\u001b[39m\"\u001b[39;49m\u001b[39mEnter your input: \u001b[39;49m\u001b[39m\"\u001b[39;49m))\n\u001b[1;32m     50\u001b[0m \u001b[39m#clear_output(wait=True)\u001b[39;00m\n\u001b[1;32m     52\u001b[0m \u001b[39mif\u001b[39;00m (intruder_true_position \u001b[39m==\u001b[39m intruder_user_selection):\n",
      "File \u001b[0;32m~/miniconda3/envs/cer_project/lib/python3.10/site-packages/ipykernel/kernelbase.py:1191\u001b[0m, in \u001b[0;36mKernel.raw_input\u001b[0;34m(self, prompt)\u001b[0m\n\u001b[1;32m   1189\u001b[0m     msg \u001b[39m=\u001b[39m \u001b[39m\"\u001b[39m\u001b[39mraw_input was called, but this frontend does not support input requests.\u001b[39m\u001b[39m\"\u001b[39m\n\u001b[1;32m   1190\u001b[0m     \u001b[39mraise\u001b[39;00m StdinNotImplementedError(msg)\n\u001b[0;32m-> 1191\u001b[0m \u001b[39mreturn\u001b[39;00m \u001b[39mself\u001b[39;49m\u001b[39m.\u001b[39;49m_input_request(\n\u001b[1;32m   1192\u001b[0m     \u001b[39mstr\u001b[39;49m(prompt),\n\u001b[1;32m   1193\u001b[0m     \u001b[39mself\u001b[39;49m\u001b[39m.\u001b[39;49m_parent_ident[\u001b[39m\"\u001b[39;49m\u001b[39mshell\u001b[39;49m\u001b[39m\"\u001b[39;49m],\n\u001b[1;32m   1194\u001b[0m     \u001b[39mself\u001b[39;49m\u001b[39m.\u001b[39;49mget_parent(\u001b[39m\"\u001b[39;49m\u001b[39mshell\u001b[39;49m\u001b[39m\"\u001b[39;49m),\n\u001b[1;32m   1195\u001b[0m     password\u001b[39m=\u001b[39;49m\u001b[39mFalse\u001b[39;49;00m,\n\u001b[1;32m   1196\u001b[0m )\n",
      "File \u001b[0;32m~/miniconda3/envs/cer_project/lib/python3.10/site-packages/ipykernel/kernelbase.py:1234\u001b[0m, in \u001b[0;36mKernel._input_request\u001b[0;34m(self, prompt, ident, parent, password)\u001b[0m\n\u001b[1;32m   1231\u001b[0m \u001b[39mexcept\u001b[39;00m \u001b[39mKeyboardInterrupt\u001b[39;00m:\n\u001b[1;32m   1232\u001b[0m     \u001b[39m# re-raise KeyboardInterrupt, to truncate traceback\u001b[39;00m\n\u001b[1;32m   1233\u001b[0m     msg \u001b[39m=\u001b[39m \u001b[39m\"\u001b[39m\u001b[39mInterrupted by user\u001b[39m\u001b[39m\"\u001b[39m\n\u001b[0;32m-> 1234\u001b[0m     \u001b[39mraise\u001b[39;00m \u001b[39mKeyboardInterrupt\u001b[39;00m(msg) \u001b[39mfrom\u001b[39;00m \u001b[39mNone\u001b[39;00m\n\u001b[1;32m   1235\u001b[0m \u001b[39mexcept\u001b[39;00m \u001b[39mException\u001b[39;00m:\n\u001b[1;32m   1236\u001b[0m     \u001b[39mself\u001b[39m\u001b[39m.\u001b[39mlog\u001b[39m.\u001b[39mwarning(\u001b[39m\"\u001b[39m\u001b[39mInvalid Message:\u001b[39m\u001b[39m\"\u001b[39m, exc_info\u001b[39m=\u001b[39m\u001b[39mTrue\u001b[39;00m)\n",
      "\u001b[0;31mKeyboardInterrupt\u001b[0m: Interrupted by user"
     ]
    }
   ],
   "source": [
    "correct_selections = 0\n",
    "K = best_tm.components_.shape[0]\n",
    "runs = 10\n",
    "topic = \"random\"\n",
    "setsize = 5\n",
    "chance_correction = False\n",
    "\n",
    "for iter in range(runs):\n",
    "    print(f'Word intrusion {iter} of runs\\n')\n",
    "    # select a topic\n",
    "    if (topic == \"random\"):\n",
    "      k = random.randint(0, K)\n",
    "    else:\n",
    "      k <- topic\n",
    "\n",
    "    # select setsize - 1 most probable words\n",
    "    top_words = np.argsort(best_tm.components_[k-1,:])[::-1]\n",
    "    top_words_setsize = wordvect.get_feature_names_out()[top_words[:setsize]]\n",
    "    \n",
    "    \n",
    "    \n",
    "    # select intruder word with low probability from current topic, but high probability in some other topic\n",
    "    V = best_tm.components_.shape[1]\n",
    "    top30 = min(V, 30)\n",
    "    \n",
    "    high_prob_terms = []\n",
    "    \n",
    "    for i in range(K):\n",
    "        if(i != k):\n",
    "            top_words_i = np.argsort(best_tm.components_[i,:])[::-1]\n",
    "            top_words_setsize_i = wordvect.get_feature_names_out()[top_words_i[:top30]]\n",
    "            high_prob_terms.append(top_words_setsize_i)\n",
    "    \n",
    "    high_prob_terms = set(np.unique(np.asarray(high_prob_terms).flatten()))\n",
    "    low_prob_terms = set(wordvect.get_feature_names_out()[top_words[math.ceil(0.25 * V):V]])\n",
    "    selection_terms = high_prob_terms & low_prob_terms\n",
    "\n",
    "    intruder = random.choices(list(selection_terms), k=1)\n",
    "    \n",
    "    eval_list = np.insert(\n",
    "        top_words_setsize,\n",
    "        random.randint(0, len(top_words_setsize)), \n",
    "        intruder)\n",
    "    intruder_true_position = np.where(eval_list == intruder)[0]\n",
    "\n",
    "    for j in range(setsize): \n",
    "        print(f\"[{j}]{eval_list[j]}\\n\")\n",
    "    \n",
    "    intruder_user_selection = int(input(\"Enter your input: \"))\n",
    "    #clear_output(wait=True)\n",
    "    \n",
    "    if (intruder_true_position == intruder_user_selection):\n",
    "        print(\"CORRECT SELECTION\\n\")\n",
    "        correct_selections +=  1\n",
    "    else:\n",
    "        print(\"FALSE SELECTION\\n\")\n",
    "        \n",
    "    \n",
    "        \n",
    "performance = correct_selections / runs\n",
    "\n",
    "if(chance_correction):\n",
    "    random_probabilty = 1 / setsize\n",
    "    performance = (performance - random_probabilty) / (1 - random_probabilty)\n",
    "  \n",
    "print(f\"Performance: {performance} ({correct_selections} out of {runs} runs)\\n\")\n",
    "    #print(top_words_setsize)\n",
    "    #print(intruder)"
   ]
  },
  {
   "cell_type": "code",
   "execution_count": 25,
   "metadata": {},
   "outputs": [
    {
     "name": "stdout",
     "output_type": "stream",
     "text": [
      "['life.value.performance.image.datasets', 'building.strategy.buildings.mec.tasks', 'networks.communication.materials.methods.based', 'resource.tools.using.challenges.health', 'models.using.software.cities.research', 'detection.home.wind.sources.monitoring', 'cities.city.environment.information.strategies', 'scheduling.optimization.model.based.plant', 'distribution.technologies.process.grid.improve', 'challenges.internet.demand.approach.grid', 'techniques.panels.buildings.demand.framework', 'manufacturing.electricity.carbon.equipment.resources', 'machine.model.wind.waste.used', 'process.transportation.internet_things.evs.wireless']\n"
     ]
    }
   ],
   "source": [
    "# Show top n keywords for each topic\n",
    "def show_topics(vectorizer, lda_model, n_words=20):\n",
    "    keywords = np.array(vectorizer.get_feature_names_out())\n",
    "    topic_keywords = []\n",
    "    for topic_weights in lda_model.components_:\n",
    "        top_keyword_locs = (-topic_weights).argsort()[:n_words]\n",
    "        topic_keywords.append(keywords.take(top_keyword_locs))\n",
    "    return topic_keywords\n",
    "\n",
    "topic_keywords = show_topics(vectorizer=wordvect, lda_model=best_tm, n_words=15)# Topic - Keywords Dataframe\n",
    "\n",
    "df_topic_keywords = pd.DataFrame(topic_keywords)\n",
    "df_topic_keywords.columns = ['Word '+str(i) for i in range(df_topic_keywords.shape[1])]\n",
    "df_topic_keywords.index = ['Topic '+str(i) for i in range(df_topic_keywords.shape[0])]\n",
    "\n",
    "#Time series\n",
    "topic_labels = []\n",
    "\n",
    "for index, row in df_topic_keywords.iterrows():\n",
    "    topic_labels.append('.'.join(row[0:5].to_list()))\n",
    "\n",
    "print(topic_labels)"
   ]
  },
  {
   "cell_type": "code",
   "execution_count": 27,
   "metadata": {},
   "outputs": [
    {
     "name": "stdout",
     "output_type": "stream",
     "text": [
      "Topic intrusion 0 of 10\n",
      "\n",
      "Power systems are evolving rapidly with the integration and active use of emerging digitalization technologies, including but not limited to Artificial Intelligence, Blockchain / Distributed Ledger Technology (B/DLT), and other Information and Communication Technologies. Besides the active integration of digitalization technologies into modern power systems, decarbonization efforts are also shaping the energy transition process to be further demystified under the Digital Green Shift convention in a joint manner. B/DLT appears to be one of the most promising enabling technologies to realize the full energy transition toward next-generation power markets and systems. Standardization of such technologies is playing a critical role in the rapid adoption of emerging technologies. This article aims to reflect the industrial and academic perspectives of practical approaches of B/DLT in the Energy Domain and the potential contributions of the proposed scope in terms of climate change and sustainability aspects.\n",
      "\n",
      "[0] machine.model.wind.waste.used\n",
      "\n",
      "[1] distribution.technologies.process.grid.improve\n",
      "\n",
      "[2] challenges.internet.demand.approach.grid\n",
      "\n"
     ]
    },
    {
     "ename": "ValueError",
     "evalue": "invalid literal for int() with base 10: ''",
     "output_type": "error",
     "traceback": [
      "\u001b[0;31m---------------------------------------------------------------------------\u001b[0m",
      "\u001b[0;31mValueError\u001b[0m                                Traceback (most recent call last)",
      "Cell \u001b[0;32mIn[27], line 36\u001b[0m\n\u001b[1;32m     33\u001b[0m \u001b[39mfor\u001b[39;00m i \u001b[39min\u001b[39;00m \u001b[39mrange\u001b[39m(setsize): \n\u001b[1;32m     34\u001b[0m     \u001b[39mprint\u001b[39m(\u001b[39mf\u001b[39m\u001b[39m\"\u001b[39m\u001b[39m[\u001b[39m\u001b[39m{\u001b[39;00mi\u001b[39m}\u001b[39;00m\u001b[39m] \u001b[39m\u001b[39m{\u001b[39;00meval_list[i]\u001b[39m}\u001b[39;00m\u001b[39m\\n\u001b[39;00m\u001b[39m\"\u001b[39m)\n\u001b[0;32m---> 36\u001b[0m intruder_user_selection \u001b[39m=\u001b[39m \u001b[39mint\u001b[39;49m(\u001b[39minput\u001b[39;49m(\u001b[39m\"\u001b[39;49m\u001b[39mEnter your input: \u001b[39;49m\u001b[39m\"\u001b[39;49m))\n\u001b[1;32m     37\u001b[0m clear_output(wait\u001b[39m=\u001b[39m\u001b[39mTrue\u001b[39;00m)\n\u001b[1;32m     39\u001b[0m \u001b[39mif\u001b[39;00m (intruder_true_position \u001b[39m==\u001b[39m intruder_user_selection):\n",
      "\u001b[0;31mValueError\u001b[0m: invalid literal for int() with base 10: ''"
     ]
    }
   ],
   "source": [
    "# Topic instrusion\n",
    "# Topic instrusion\n",
    "theta = best_tm.transform(dtm)\n",
    "correct_selections = 0\n",
    "K = best_tm.components_.shape[0]\n",
    "runs = 10\n",
    "n_docs = theta.shape[0]\n",
    "chance_correction = False\n",
    "docs = random.sample(range(n_docs), runs)\n",
    "setsize = 3\n",
    "for iter in range(runs):\n",
    "    d = docs[iter]\n",
    "\n",
    "    print(f\"Topic intrusion {iter} of {runs}\\n\")\n",
    "    \n",
    "    doc_text = data.abstract[d]\n",
    "    \n",
    "    # select setsize - 1 most probable topic\n",
    "    top_topics = np.argsort(theta[d,:])[::-1]\n",
    "    top_topic_names = [label for idx, label in enumerate(topic_labels) if idx in top_topics[:(setsize-1)]]\n",
    "    intruder_topic = random.choices(list(top_topics[math.ceil((K+1)/2):K-1]), k=1)\n",
    "    intruder_topic_name = topic_labels[intruder_topic[0]]\n",
    "    \n",
    "    eval_list = np.insert(\n",
    "        top_topic_names,\n",
    "        random.randint(0, len(top_topic_names)), \n",
    "        intruder_topic_name)\n",
    "    \n",
    "    intruder_true_position = np.where(eval_list == intruder_topic_name)[0]\n",
    "    \n",
    "    print(f'{doc_text}\\n')\n",
    "    \n",
    "    for i in range(setsize): \n",
    "        print(f\"[{i}] {eval_list[i]}\\n\")\n",
    "\n",
    "    intruder_user_selection = int(input(\"Enter your input: \"))\n",
    "    clear_output(wait=True)\n",
    "    \n",
    "    if (intruder_true_position == intruder_user_selection):\n",
    "        print(\"CORRECT SELECTION\\n\")\n",
    "        correct_selections +=  1\n",
    "    else:\n",
    "        print(\"FALSE SELECTION\\n\")\n",
    "    \n",
    "performance = correct_selections / runs\n",
    "\n",
    "if(chance_correction):\n",
    "    random_probabilty = 1 / setsize\n",
    "    performance = (performance - random_probabilty) / (1 - random_probabilty)\n",
    "  \n",
    "print(f\"Performance: {performance} ({correct_selections} out of {runs} runs)\\n\")\n",
    "    #print(top_words_setsize)\n",
    "    #print(intruder)"
   ]
  },
  {
   "cell_type": "code",
   "execution_count": null,
   "metadata": {},
   "outputs": [],
   "source": [
    "tm_topic_intrusion <- function(beta, theta, corpus, runs = 10, setsize = 4, document = \"random\", chance_correction = T) {\n",
    "\n",
    "  for (iter in 1:runs) {\n",
    "\n",
    "    \n",
    "\n",
    "\n",
    "    eval_list <- sample(c(top_topic_names, intruder_topic_name))\n",
    "    intruder_true_position <- which(eval_list == intruder_topic_name)\n",
    "\n",
    "    for (i in 1:setsize) cat(\"[\", i, \"] \", eval_list[i], \"\\n\")\n",
    "\n",
    "    intruder_user_selection <- readIntruder()\n",
    "\n",
    "    if (intruder_true_position == intruder_user_selection) {\n",
    "      cat(\"CORRECT SELECTION\\n\")\n",
    "      correct_selections <- correct_selections + 1\n",
    "    } else {\n",
    "      cat(\"FALSE SELECTION\\n\")\n",
    "    }\n",
    "\n",
    "  }\n",
    "\n",
    "  performance <- correct_selections / runs\n",
    "\n",
    "  if (chance_correction) {\n",
    "    random_probabilty <- 1 / setsize\n",
    "    performance <- (performance - random_probabilty) / (1 - random_probabilty)\n",
    "  }\n",
    "\n",
    "  cat(\"Performance:\", performance, \" (\", correct_selections, \" out of \", runs, \")\\n\")\n",
    "\n",
    "  return(performance)\n",
    "}"
   ]
  }
 ],
 "metadata": {
  "kernelspec": {
   "display_name": "cer_project",
   "language": "python",
   "name": "python3"
  },
  "language_info": {
   "codemirror_mode": {
    "name": "ipython",
    "version": 3
   },
   "file_extension": ".py",
   "mimetype": "text/x-python",
   "name": "python",
   "nbconvert_exporter": "python",
   "pygments_lexer": "ipython3",
   "version": "3.10.11"
  },
  "orig_nbformat": 4
 },
 "nbformat": 4,
 "nbformat_minor": 2
}
